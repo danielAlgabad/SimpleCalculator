{
  "nbformat": 4,
  "nbformat_minor": 0,
  "metadata": {
    "colab": {
      "provenance": [],
      "authorship_tag": "ABX9TyMXQFV3sjXR2LxjlJeR2BG3",
      "include_colab_link": true
    },
    "kernelspec": {
      "name": "python3",
      "display_name": "Python 3"
    },
    "language_info": {
      "name": "python"
    }
  },
  "cells": [
    {
      "cell_type": "markdown",
      "metadata": {
        "id": "view-in-github",
        "colab_type": "text"
      },
      "source": [
        "<a href=\"https://colab.research.google.com/github/danielAlgabad/SimpleCalculator/blob/main/CalculadoraSimple.ipynb\" target=\"_parent\"><img src=\"https://colab.research.google.com/assets/colab-badge.svg\" alt=\"Open In Colab\"/></a>"
      ]
    },
    {
      "cell_type": "code",
      "execution_count": null,
      "metadata": {
        "id": "zJ88ujM3jGXy"
      },
      "outputs": [],
      "source": [
        "print(\"Welcome to Simple Calculator!!\\n\")\n",
        "print(\"Symbols: + - * / \\nLeave a space between the number and the symbol\")\n",
        "print(\"Type lr for last result\")\n",
        "print(\"Type 0 to stop\")\n",
        "lastresult = 0\n",
        "\n",
        "op = input(\"Type the operation: \")\n",
        "while op is not \"0\":\n",
        "  \n",
        "  op2 = op.split()\n",
        "  first = op2[0]\n",
        "  second = op2[2]\n",
        "  symbol = op2[1]\n",
        "\n",
        "  if first == \"lr\":\n",
        "    first = lastresult\n",
        "  if second == \"lr\":\n",
        "    second = lastresult\n",
        "\n",
        "  if symbol is \"+\":\n",
        "    result = int(first) + int(second)\n",
        "    print(result)\n",
        "  elif symbol is \"-\":\n",
        "    result = int(first) - int(second)\n",
        "    print(result)\n",
        "  elif symbol is \"*\":\n",
        "    result = int(first) * int(second)\n",
        "    print(result)\n",
        "  elif symbol is \"/\":\n",
        "    if (second is not \"0\"):\n",
        "      result = int(first) / int(second)\n",
        "      print(result)\n",
        "    else:\n",
        "      print(\"Error: Zero Division\")\n",
        "  else:\n",
        "    print(\"Error: Unknown Symbol\")\n",
        "\n",
        "  op = input(\"Type the operation: \")\n",
        "  lastresult = result\n",
        "print(\"Bye!\" )"
      ]
    }
  ]
}